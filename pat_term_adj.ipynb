{
 "cells": [
  {
   "cell_type": "code",
   "execution_count": 1,
   "metadata": {},
   "outputs": [],
   "source": [
    "import pandas as pd"
   ]
  },
  {
   "cell_type": "code",
   "execution_count": 2,
   "metadata": {},
   "outputs": [],
   "source": [
    "# df = pd.read_csv(\"./patent.tsv\", sep=\"\\t\", nrows = 500 )\n",
    "df = pd.read_csv(\"csv_patent_2019/pat_term_adj.csv\")"
   ]
  },
  {
   "cell_type": "code",
   "execution_count": 3,
   "metadata": {},
   "outputs": [
    {
     "data": {
      "text/html": [
       "<div>\n",
       "<style scoped>\n",
       "    .dataframe tbody tr th:only-of-type {\n",
       "        vertical-align: middle;\n",
       "    }\n",
       "\n",
       "    .dataframe tbody tr th {\n",
       "        vertical-align: top;\n",
       "    }\n",
       "\n",
       "    .dataframe thead th {\n",
       "        text-align: right;\n",
       "    }\n",
       "</style>\n",
       "<table border=\"1\" class=\"dataframe\">\n",
       "  <thead>\n",
       "    <tr style=\"text-align: right;\">\n",
       "      <th></th>\n",
       "      <th>application_number</th>\n",
       "      <th>pta_sequence_number</th>\n",
       "      <th>pta_event_date</th>\n",
       "      <th>pta_event_desc</th>\n",
       "      <th>applicant_delay_duration</th>\n",
       "      <th>uspto_delay_duration</th>\n",
       "      <th>start_pta_sequence_number</th>\n",
       "      <th>term_extension_indicator</th>\n",
       "    </tr>\n",
       "  </thead>\n",
       "  <tbody>\n",
       "    <tr>\n",
       "      <th>0</th>\n",
       "      <td>9068213</td>\n",
       "      <td>NaN</td>\n",
       "      <td>2002-12-02</td>\n",
       "      <td>Mail Notice of Allowance</td>\n",
       "      <td>0</td>\n",
       "      <td>0</td>\n",
       "      <td>NaN</td>\n",
       "      <td>1</td>\n",
       "    </tr>\n",
       "    <tr>\n",
       "      <th>1</th>\n",
       "      <td>9068213</td>\n",
       "      <td>NaN</td>\n",
       "      <td>2002-12-02</td>\n",
       "      <td>Mail Formal Drawings Required</td>\n",
       "      <td>0</td>\n",
       "      <td>0</td>\n",
       "      <td>NaN</td>\n",
       "      <td>1</td>\n",
       "    </tr>\n",
       "    <tr>\n",
       "      <th>2</th>\n",
       "      <td>9068213</td>\n",
       "      <td>NaN</td>\n",
       "      <td>2002-12-02</td>\n",
       "      <td>Formal Drawings Required</td>\n",
       "      <td>0</td>\n",
       "      <td>0</td>\n",
       "      <td>NaN</td>\n",
       "      <td>1</td>\n",
       "    </tr>\n",
       "    <tr>\n",
       "      <th>3</th>\n",
       "      <td>9068213</td>\n",
       "      <td>NaN</td>\n",
       "      <td>2002-12-02</td>\n",
       "      <td>Notice of Allowance Data Verification Completed</td>\n",
       "      <td>0</td>\n",
       "      <td>0</td>\n",
       "      <td>NaN</td>\n",
       "      <td>1</td>\n",
       "    </tr>\n",
       "    <tr>\n",
       "      <th>4</th>\n",
       "      <td>9068213</td>\n",
       "      <td>NaN</td>\n",
       "      <td>2002-10-29</td>\n",
       "      <td>New or Additional Drawing Filed</td>\n",
       "      <td>0</td>\n",
       "      <td>0</td>\n",
       "      <td>NaN</td>\n",
       "      <td>1</td>\n",
       "    </tr>\n",
       "  </tbody>\n",
       "</table>\n",
       "</div>"
      ],
      "text/plain": [
       "   application_number  pta_sequence_number pta_event_date  \\\n",
       "0             9068213                  NaN     2002-12-02   \n",
       "1             9068213                  NaN     2002-12-02   \n",
       "2             9068213                  NaN     2002-12-02   \n",
       "3             9068213                  NaN     2002-12-02   \n",
       "4             9068213                  NaN     2002-10-29   \n",
       "\n",
       "                                    pta_event_desc  applicant_delay_duration  \\\n",
       "0                         Mail Notice of Allowance                         0   \n",
       "1                    Mail Formal Drawings Required                         0   \n",
       "2                         Formal Drawings Required                         0   \n",
       "3  Notice of Allowance Data Verification Completed                         0   \n",
       "4                  New or Additional Drawing Filed                         0   \n",
       "\n",
       "   uspto_delay_duration  start_pta_sequence_number  term_extension_indicator  \n",
       "0                     0                        NaN                         1  \n",
       "1                     0                        NaN                         1  \n",
       "2                     0                        NaN                         1  \n",
       "3                     0                        NaN                         1  \n",
       "4                     0                        NaN                         1  "
      ]
     },
     "execution_count": 3,
     "metadata": {},
     "output_type": "execute_result"
    }
   ],
   "source": [
    "df.head()"
   ]
  },
  {
   "cell_type": "code",
   "execution_count": null,
   "metadata": {},
   "outputs": [],
   "source": [
    "# df.sort_values([\"filing_date\"], ascending = False).head()"
   ]
  },
  {
   "cell_type": "code",
   "execution_count": null,
   "metadata": {},
   "outputs": [],
   "source": [
    "# df.appl_status_desc.unique()"
   ]
  },
  {
   "cell_type": "code",
   "execution_count": null,
   "metadata": {},
   "outputs": [],
   "source": []
  }
 ],
 "metadata": {
  "kernelspec": {
   "display_name": "Python 3",
   "language": "python",
   "name": "python3"
  },
  "language_info": {
   "codemirror_mode": {
    "name": "ipython",
    "version": 3
   },
   "file_extension": ".py",
   "mimetype": "text/x-python",
   "name": "python",
   "nbconvert_exporter": "python",
   "pygments_lexer": "ipython3",
   "version": "3.8.5"
  }
 },
 "nbformat": 4,
 "nbformat_minor": 4
}
