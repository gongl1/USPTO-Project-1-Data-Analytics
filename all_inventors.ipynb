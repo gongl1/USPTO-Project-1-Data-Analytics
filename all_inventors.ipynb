{
 "cells": [
  {
   "cell_type": "code",
   "execution_count": 1,
   "metadata": {},
   "outputs": [],
   "source": [
    "import pandas as pd"
   ]
  },
  {
   "cell_type": "code",
   "execution_count": 2,
   "metadata": {},
   "outputs": [
    {
     "name": "stderr",
     "output_type": "stream",
     "text": [
      "C:\\Users\\gongl\\AppData\\Roaming\\Python\\Python38\\site-packages\\IPython\\core\\interactiveshell.py:3165: DtypeWarning: Columns (0) have mixed types.Specify dtype option on import or set low_memory=False.\n",
      "  has_raised = await self.run_ast_nodes(code_ast.body, cell_name,\n"
     ]
    }
   ],
   "source": [
    "# df = pd.read_csv(\"./patent.tsv\", sep=\"\\t\", nrows = 500 )\n",
    "df = pd.read_csv(\"csv_patent_2019/all_inventors.csv\")"
   ]
  },
  {
   "cell_type": "code",
   "execution_count": 3,
   "metadata": {},
   "outputs": [
    {
     "data": {
      "text/html": [
       "<div>\n",
       "<style scoped>\n",
       "    .dataframe tbody tr th:only-of-type {\n",
       "        vertical-align: middle;\n",
       "    }\n",
       "\n",
       "    .dataframe tbody tr th {\n",
       "        vertical-align: top;\n",
       "    }\n",
       "\n",
       "    .dataframe thead th {\n",
       "        text-align: right;\n",
       "    }\n",
       "</style>\n",
       "<table border=\"1\" class=\"dataframe\">\n",
       "  <thead>\n",
       "    <tr style=\"text-align: right;\">\n",
       "      <th></th>\n",
       "      <th>application_number</th>\n",
       "      <th>inventor_name_first</th>\n",
       "      <th>inventor_name_middle</th>\n",
       "      <th>inventor_name_last</th>\n",
       "      <th>inventor_rank</th>\n",
       "      <th>inventor_city_name</th>\n",
       "      <th>inventor_region_code</th>\n",
       "      <th>inventor_country_code</th>\n",
       "    </tr>\n",
       "  </thead>\n",
       "  <tbody>\n",
       "    <tr>\n",
       "      <th>0</th>\n",
       "      <td>5692088</td>\n",
       "      <td>TROY</td>\n",
       "      <td>E.</td>\n",
       "      <td>PLUNK</td>\n",
       "      <td>1</td>\n",
       "      <td>Bedford</td>\n",
       "      <td>MA</td>\n",
       "      <td>US</td>\n",
       "    </tr>\n",
       "    <tr>\n",
       "      <th>1</th>\n",
       "      <td>5692088</td>\n",
       "      <td>JAMES</td>\n",
       "      <td>E.</td>\n",
       "      <td>HOPSON</td>\n",
       "      <td>2</td>\n",
       "      <td>Wellesley</td>\n",
       "      <td>MA</td>\n",
       "      <td>US</td>\n",
       "    </tr>\n",
       "    <tr>\n",
       "      <th>2</th>\n",
       "      <td>5692179</td>\n",
       "      <td>PIETRO</td>\n",
       "      <td></td>\n",
       "      <td>VENTRESCA</td>\n",
       "      <td>1</td>\n",
       "      <td>Littleton</td>\n",
       "      <td>MA</td>\n",
       "      <td>US</td>\n",
       "    </tr>\n",
       "    <tr>\n",
       "      <th>3</th>\n",
       "      <td>5692179</td>\n",
       "      <td>FRANCIS</td>\n",
       "      <td>J.</td>\n",
       "      <td>O'HARA</td>\n",
       "      <td>2</td>\n",
       "      <td>Bedford</td>\n",
       "      <td>MA</td>\n",
       "      <td>US</td>\n",
       "    </tr>\n",
       "    <tr>\n",
       "      <th>4</th>\n",
       "      <td>5692179</td>\n",
       "      <td>CHESTER</td>\n",
       "      <td>J.</td>\n",
       "      <td>HUNT</td>\n",
       "      <td>3</td>\n",
       "      <td>Melrose</td>\n",
       "      <td>MA</td>\n",
       "      <td>US</td>\n",
       "    </tr>\n",
       "  </tbody>\n",
       "</table>\n",
       "</div>"
      ],
      "text/plain": [
       "  application_number inventor_name_first inventor_name_middle  \\\n",
       "0            5692088                TROY                   E.   \n",
       "1            5692088               JAMES                   E.   \n",
       "2            5692179              PIETRO                        \n",
       "3            5692179             FRANCIS                   J.   \n",
       "4            5692179             CHESTER                   J.   \n",
       "\n",
       "  inventor_name_last  inventor_rank inventor_city_name inventor_region_code  \\\n",
       "0              PLUNK              1            Bedford                   MA   \n",
       "1             HOPSON              2          Wellesley                   MA   \n",
       "2          VENTRESCA              1          Littleton                   MA   \n",
       "3             O'HARA              2            Bedford                   MA   \n",
       "4               HUNT              3            Melrose                   MA   \n",
       "\n",
       "  inventor_country_code  \n",
       "0                    US  \n",
       "1                    US  \n",
       "2                    US  \n",
       "3                    US  \n",
       "4                    US  "
      ]
     },
     "execution_count": 3,
     "metadata": {},
     "output_type": "execute_result"
    }
   ],
   "source": [
    "df.head()"
   ]
  },
  {
   "cell_type": "code",
   "execution_count": null,
   "metadata": {},
   "outputs": [],
   "source": [
    "# df.sort_values([\"filing_date\"], ascending = False).head()"
   ]
  },
  {
   "cell_type": "code",
   "execution_count": null,
   "metadata": {},
   "outputs": [],
   "source": [
    "# df.appl_status_desc.unique()"
   ]
  },
  {
   "cell_type": "code",
   "execution_count": null,
   "metadata": {},
   "outputs": [],
   "source": []
  }
 ],
 "metadata": {
  "kernelspec": {
   "display_name": "Python 3",
   "language": "python",
   "name": "python3"
  },
  "language_info": {
   "codemirror_mode": {
    "name": "ipython",
    "version": 3
   },
   "file_extension": ".py",
   "mimetype": "text/x-python",
   "name": "python",
   "nbconvert_exporter": "python",
   "pygments_lexer": "ipython3",
   "version": "3.8.5"
  }
 },
 "nbformat": 4,
 "nbformat_minor": 4
}
